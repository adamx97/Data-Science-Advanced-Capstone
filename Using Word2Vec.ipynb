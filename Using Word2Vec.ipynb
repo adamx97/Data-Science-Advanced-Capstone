{
    "cells": [
        {
            "metadata": {
                "collapsed": true
            },
            "cell_type": "markdown",
            "source": "### Binary classification with Non-Deep learning algorithms: Naive Bayes and SVM\nWe will use Naive Bayes and Support Vector machine.\n"
        },
        {
            "metadata": {},
            "cell_type": "code",
            "source": "!pip install --upgrade numpy\n!pip install --upgrade pandas\n#!pip install pyspark==2.4.5\n!pip install -U scikit-learn",
            "execution_count": 2,
            "outputs": [
                {
                    "output_type": "stream",
                    "text": "Collecting numpy\n\u001b[?25l  Downloading https://files.pythonhosted.org/packages/63/97/af8a92864a04bfa48f1b5c9b1f8bf2ccb2847f24530026f26dd223de4ca0/numpy-1.19.2-cp36-cp36m-manylinux2010_x86_64.whl (14.5MB)\n\u001b[K     |\u2588\u2588\u2588\u2588\u2588\u2588\u2588\u2588\u2588\u2588\u2588\u2588\u2588\u2588\u2588\u2588\u2588\u2588\u2588\u2588\u2588\u2588\u2588\u2588\u2588\u2588\u2588\u2588\u2588\u2588\u2588\u2588| 14.5MB 5.8MB/s eta 0:00:01\n\u001b[31mERROR: tensorflow 1.13.1 requires tensorboard<1.14.0,>=1.13.0, which is not installed.\u001b[0m\n\u001b[31mERROR: autoai-libs 1.10.5 has requirement pandas>=0.24.2, but you'll have pandas 0.24.1 which is incompatible.\u001b[0m\n\u001b[?25hInstalling collected packages: numpy\n  Found existing installation: numpy 1.15.4\n    Uninstalling numpy-1.15.4:\n      Successfully uninstalled numpy-1.15.4\nSuccessfully installed numpy-1.19.2\nCollecting pandas\n\u001b[?25l  Downloading https://files.pythonhosted.org/packages/1c/11/e1f53db0614f2721027aab297c8afd2eaf58d33d566441a97ea454541c5e/pandas-1.1.2-cp36-cp36m-manylinux1_x86_64.whl (10.5MB)\n\u001b[K     |\u2588\u2588\u2588\u2588\u2588\u2588\u2588\u2588\u2588\u2588\u2588\u2588\u2588\u2588\u2588\u2588\u2588\u2588\u2588\u2588\u2588\u2588\u2588\u2588\u2588\u2588\u2588\u2588\u2588\u2588\u2588\u2588| 10.5MB 8.9MB/s eta 0:00:01\n\u001b[?25hRequirement already satisfied, skipping upgrade: pytz>=2017.2 in /opt/conda/envs/Python36/lib/python3.6/site-packages (from pandas) (2018.9)\nRequirement already satisfied, skipping upgrade: python-dateutil>=2.7.3 in /opt/conda/envs/Python36/lib/python3.6/site-packages (from pandas) (2.7.5)\nRequirement already satisfied, skipping upgrade: numpy>=1.15.4 in /opt/conda/envs/Python36/lib/python3.6/site-packages (from pandas) (1.19.2)\nRequirement already satisfied, skipping upgrade: six>=1.5 in /opt/conda/envs/Python36/lib/python3.6/site-packages (from python-dateutil>=2.7.3->pandas) (1.12.0)\n\u001b[31mERROR: ibm-watson-machine-learning 1.0.10 has requirement pandas<=0.25.3, but you'll have pandas 1.1.2 which is incompatible.\u001b[0m\nInstalling collected packages: pandas\n  Found existing installation: pandas 0.24.1\n    Uninstalling pandas-0.24.1:\n      Successfully uninstalled pandas-0.24.1\nSuccessfully installed pandas-1.1.2\nCollecting scikit-learn\n\u001b[?25l  Downloading https://files.pythonhosted.org/packages/5c/a1/273def87037a7fb010512bbc5901c31cfddfca8080bc63b42b26e3cc55b3/scikit_learn-0.23.2-cp36-cp36m-manylinux1_x86_64.whl (6.8MB)\n\u001b[K     |\u2588\u2588\u2588\u2588\u2588\u2588\u2588\u2588\u2588\u2588\u2588\u2588\u2588\u2588\u2588\u2588\u2588\u2588\u2588\u2588\u2588\u2588\u2588\u2588\u2588\u2588\u2588\u2588\u2588\u2588\u2588\u2588| 6.8MB 8.8MB/s eta 0:00:01\n\u001b[?25hCollecting joblib>=0.11 (from scikit-learn)\n\u001b[?25l  Downloading https://files.pythonhosted.org/packages/51/dd/0e015051b4a27ec5a58b02ab774059f3289a94b0906f880a3f9507e74f38/joblib-0.16.0-py3-none-any.whl (300kB)\n\u001b[K     |\u2588\u2588\u2588\u2588\u2588\u2588\u2588\u2588\u2588\u2588\u2588\u2588\u2588\u2588\u2588\u2588\u2588\u2588\u2588\u2588\u2588\u2588\u2588\u2588\u2588\u2588\u2588\u2588\u2588\u2588\u2588\u2588| 307kB 23.8MB/s eta 0:00:01\n\u001b[?25hCollecting threadpoolctl>=2.0.0 (from scikit-learn)\n  Downloading https://files.pythonhosted.org/packages/f7/12/ec3f2e203afa394a149911729357aa48affc59c20e2c1c8297a60f33f133/threadpoolctl-2.1.0-py3-none-any.whl\nRequirement already satisfied, skipping upgrade: numpy>=1.13.3 in /opt/conda/envs/Python36/lib/python3.6/site-packages (from scikit-learn) (1.19.2)\nRequirement already satisfied, skipping upgrade: scipy>=0.19.1 in /opt/conda/envs/Python36/lib/python3.6/site-packages (from scikit-learn) (1.2.0)\n\u001b[31mERROR: autoai-libs 1.10.5 has requirement scikit-learn==0.20.3, but you'll have scikit-learn 0.23.2 which is incompatible.\u001b[0m\nInstalling collected packages: joblib, threadpoolctl, scikit-learn\n  Found existing installation: scikit-learn 0.20.3\n    Uninstalling scikit-learn-0.20.3:\n      Successfully uninstalled scikit-learn-0.20.3\nSuccessfully installed joblib-0.16.0 scikit-learn-0.23.2 threadpoolctl-2.1.0\n",
                    "name": "stdout"
                }
            ]
        },
        {
            "metadata": {
                "collapsed": true
            },
            "cell_type": "code",
            "source": "%matplotlib inline\nimport matplotlib\nimport matplotlib.pyplot as plt\nfrom pprint import pprint\nfrom time import time\nimport logging\nimport numpy as np\nimport pandas as pd\nimport string\nimport re\nfrom datetime import datetime\nfrom packaging import version\n\nfrom ibm_botocore.client import Config\nimport ibm_boto3\n\nfrom sklearn.model_selection import train_test_split\n#pd.show_versions()",
            "execution_count": 3,
            "outputs": [
                {
                    "output_type": "stream",
                    "text": "\nINSTALLED VERSIONS\n------------------\ncommit           : 2a7d3326dee660824a8433ffd01065f8ac37f7d6\npython           : 3.6.9.final.0\npython-bits      : 64\nOS               : Linux\nOS-release       : 4.15.0-112-generic\nVersion          : #113-Ubuntu SMP Thu Jul 9 23:41:39 UTC 2020\nmachine          : x86_64\nprocessor        : x86_64\nbyteorder        : little\nLC_ALL           : en_US.UTF-8\nLANG             : en_US.UTF-8\nLOCALE           : en_US.UTF-8\n\npandas           : 1.1.2\nnumpy            : 1.19.2\npytz             : 2018.9\ndateutil         : 2.7.5\npip              : 19.1.1\nsetuptools       : 40.8.0\nCython           : 0.29.5\npytest           : 4.2.1\nhypothesis       : None\nsphinx           : 1.8.4\nblosc            : None\nfeather          : None\nxlsxwriter       : 1.1.2\nlxml.etree       : 4.3.1\nhtml5lib         : 1.0.1\npymysql          : None\npsycopg2         : 2.7.6.1 (dt dec pq3 ext lo64)\njinja2           : 2.10\nIPython          : 7.2.0\npandas_datareader: None\nbs4              : 4.7.1\nbottleneck       : 1.2.1\nfsspec           : None\nfastparquet      : None\ngcsfs            : None\nmatplotlib       : 3.0.2\nnumexpr          : 2.6.9\nodfpy            : None\nopenpyxl         : 2.6.0\npandas_gbq       : None\npyarrow          : 0.15.1\npytables         : None\npyxlsb           : None\ns3fs             : None\nscipy            : 1.2.0\nsqlalchemy       : 1.2.18\ntables           : 3.4.4\ntabulate         : 0.8.2\nxarray           : None\nxlrd             : 1.2.0\nxlwt             : 1.3.0\nnumba            : 0.42.0\n",
                    "name": "stdout"
                }
            ]
        },
        {
            "metadata": {},
            "cell_type": "code",
            "source": "#Get our data from IBM Cloud\n\n# @hidden_cell\n# The following code contains the credentials for a file in your IBM Cloud Object Storage.\n# You might want to remove those credentials before you share your notebook.\ncredentials_news = {\n    'IAM_SERVICE_ID': 'iam-ServiceId-32e8ee67-397c-4ff1-b69b-543172331f43',\n    'IBM_API_KEY_ID': 'Rx4FR4JSAueCnnIsoevsgYgOsuh8LCXtbkFpFpC0EmVU',\n    #'ENDPOINT': 'https://s3-api.us-geo.objectstorage.service.networklayer.com',\n    'ENDPOINT':'https://s3-api.us-geo.objectstorage.softlayer.net',\n    'IBM_AUTH_ENDPOINT': 'https://iam.cloud.ibm.com/oidc/token',\n    'BUCKET': 'advanceddatasciencecapstone-donotdelete-pr-tqabpnbxebk8rm',\n    'FILE': 'dfTrueFalseNews.pkl'\n}\n\ndef download_file_cos(credentials,local_file_name,key):  \n    cos = ibm_boto3.client(service_name='s3',\n    ibm_api_key_id=credentials['IBM_API_KEY_ID'],\n    ibm_service_instance_id=credentials['IAM_SERVICE_ID'],\n    ibm_auth_endpoint=credentials['IBM_AUTH_ENDPOINT'],\n    config=Config(signature_version='oauth'),\n    endpoint_url=credentials['ENDPOINT'])\n    try:\n        res=cos.download_file(Bucket=credentials['BUCKET'],Key=key,Filename=local_file_name)\n    except Exception as e:\n        print(Exception, e)\n    else:\n        print('File Downloaded')\n\ndef upload_file_cos(credentials,local_file_name,key):  \n    cos = ibm_boto3.client(service_name='s3',\n    ibm_api_key_id=credentials['IBM_API_KEY_ID'],\n    ibm_service_instance_id=credentials['IAM_SERVICE_ID'],\n    ibm_auth_endpoint=credentials['IBM_AUTH_ENDPOINT'],\n    config=Config(signature_version='oauth'),\n    endpoint_url=credentials['ENDPOINT'])\n    try:\n        res=cos.upload_file(Filename=local_file_name, Bucket=credentials['BUCKET'],Key=key)\n    except Exception as e:\n        print(Exception, e)\n    else:\n        print(' File Uploaded')\n        \ndfNews = download_file_cos(credentials_news, \"dfTrueFalseNews.pkl\", \"dfTrueFalseNews.pkl\")\ndfTrueFalseNews_tokenized  = download_file_cos(credentials_news,'dfTrueFalseNews_tokenized.pkl','dfTrueFalseNews_tokenized.pkl')",
            "execution_count": 4,
            "outputs": [
                {
                    "output_type": "stream",
                    "text": "File Downloaded\nFile Downloaded\n",
                    "name": "stdout"
                }
            ]
        },
        {
            "metadata": {},
            "cell_type": "code",
            "source": "dfNewsTemp = pd.read_pickle('dfTrueFalseNews.pkl')\ndfTrueFalseNews_tokenized = pd.read_pickle('dfTrueFalseNews_tokenized.pkl')\n#dfNews['truthvalue'] = pd.Categorical(dfNews['truthvalue'])\n\nx = dfNewsTemp['text'].values\n\ny = dfNewsTemp['truthvalue'].values\n\nprint (dfNewsTemp.shape, dfNewsTemp.columns, '\\n', dfNewsTemp.dtypes, type(x), type(y))\n",
            "execution_count": 5,
            "outputs": [
                {
                    "output_type": "stream",
                    "text": "(1126, 3) Index(['text', 'source', 'truthvalue'], dtype='object') \n text          object\nsource        object\ntruthvalue    object\ndtype: object <class 'numpy.ndarray'> <class 'numpy.ndarray'>\n",
                    "name": "stdout"
                }
            ]
        },
        {
            "metadata": {},
            "cell_type": "code",
            "source": "dfNewsTemp.dtypes\n\n",
            "execution_count": 6,
            "outputs": [
                {
                    "output_type": "execute_result",
                    "execution_count": 6,
                    "data": {
                        "text/plain": "text          object\nsource        object\ntruthvalue    object\ndtype: object"
                    },
                    "metadata": {}
                }
            ]
        },
        {
            "metadata": {},
            "cell_type": "markdown",
            "source": "### Prepare the Text for Word2Vec\n1. Change all the text to lower case\n2. Split stories into sentences.\n3. Word Tokenization and removing non-alpha text."
        },
        {
            "metadata": {},
            "cell_type": "code",
            "source": "!pip install gensim",
            "execution_count": 7,
            "outputs": [
                {
                    "output_type": "stream",
                    "text": "Collecting gensim\n\u001b[?25l  Downloading https://files.pythonhosted.org/packages/2b/e0/fa6326251692056dc880a64eb22117e03269906ba55a6864864d24ec8b4e/gensim-3.8.3-cp36-cp36m-manylinux1_x86_64.whl (24.2MB)\n\u001b[K     |\u2588\u2588\u2588\u2588\u2588\u2588\u2588\u2588\u2588\u2588\u2588\u2588\u2588\u2588\u2588\u2588\u2588\u2588\u2588\u2588\u2588\u2588\u2588\u2588\u2588\u2588\u2588\u2588\u2588\u2588\u2588\u2588| 24.2MB 14.4MB/s eta 0:00:01    |\u2588\u2588\u2588\u2588\u2588\u2588\u2588\u2588\u2588\u2588\u2588\u2588\u2588\u2588\u258f                 | 10.7MB 7.1MB/s eta 0:00:02\n\u001b[?25hRequirement already satisfied: six>=1.5.0 in /opt/conda/envs/Python36/lib/python3.6/site-packages (from gensim) (1.12.0)\nRequirement already satisfied: numpy>=1.11.3 in /opt/conda/envs/Python36/lib/python3.6/site-packages (from gensim) (1.19.2)\nRequirement already satisfied: scipy>=0.18.1 in /opt/conda/envs/Python36/lib/python3.6/site-packages (from gensim) (1.2.0)\nCollecting smart-open>=1.8.1 (from gensim)\n\u001b[?25l  Downloading https://files.pythonhosted.org/packages/91/6f/788e657fb513deebadfbb38b346d4878b2fded0f72fe7d937b1646137f46/smart_open-2.1.1.tar.gz (111kB)\n\u001b[K     |\u2588\u2588\u2588\u2588\u2588\u2588\u2588\u2588\u2588\u2588\u2588\u2588\u2588\u2588\u2588\u2588\u2588\u2588\u2588\u2588\u2588\u2588\u2588\u2588\u2588\u2588\u2588\u2588\u2588\u2588\u2588\u2588| 112kB 32.8MB/s eta 0:00:01\n\u001b[?25hRequirement already satisfied: requests in /opt/conda/envs/Python36/lib/python3.6/site-packages (from smart-open>=1.8.1->gensim) (2.21.0)\nRequirement already satisfied: boto in /opt/conda/envs/Python36/lib/python3.6/site-packages (from smart-open>=1.8.1->gensim) (2.49.0)\nRequirement already satisfied: boto3 in /opt/conda/envs/Python36/lib/python3.6/site-packages (from smart-open>=1.8.1->gensim) (1.9.82)\nRequirement already satisfied: chardet<3.1.0,>=3.0.2 in /opt/conda/envs/Python36/lib/python3.6/site-packages (from requests->smart-open>=1.8.1->gensim) (3.0.4)\nRequirement already satisfied: urllib3<1.25,>=1.21.1 in /opt/conda/envs/Python36/lib/python3.6/site-packages (from requests->smart-open>=1.8.1->gensim) (1.24.1)\nRequirement already satisfied: idna<2.9,>=2.5 in /opt/conda/envs/Python36/lib/python3.6/site-packages (from requests->smart-open>=1.8.1->gensim) (2.8)\nRequirement already satisfied: certifi>=2017.4.17 in /opt/conda/envs/Python36/lib/python3.6/site-packages (from requests->smart-open>=1.8.1->gensim) (2020.6.20)\nRequirement already satisfied: botocore<1.13.0,>=1.12.82 in /opt/conda/envs/Python36/lib/python3.6/site-packages (from boto3->smart-open>=1.8.1->gensim) (1.12.82)\nRequirement already satisfied: jmespath<1.0.0,>=0.7.1 in /opt/conda/envs/Python36/lib/python3.6/site-packages (from boto3->smart-open>=1.8.1->gensim) (0.9.3)\nRequirement already satisfied: s3transfer<0.2.0,>=0.1.10 in /opt/conda/envs/Python36/lib/python3.6/site-packages (from boto3->smart-open>=1.8.1->gensim) (0.1.13)\nRequirement already satisfied: docutils>=0.10 in /opt/conda/envs/Python36/lib/python3.6/site-packages (from botocore<1.13.0,>=1.12.82->boto3->smart-open>=1.8.1->gensim) (0.14)\nRequirement already satisfied: python-dateutil<3.0.0,>=2.1 in /opt/conda/envs/Python36/lib/python3.6/site-packages (from botocore<1.13.0,>=1.12.82->boto3->smart-open>=1.8.1->gensim) (2.7.5)\nBuilding wheels for collected packages: smart-open\n  Building wheel for smart-open (setup.py) ... \u001b[?25ldone\n\u001b[?25h  Stored in directory: /home/dsxuser/.cache/pip/wheels/17/49/ea/74939572d8d071ff3c63a98e3e8dadef1117cc93c33efaa504\nSuccessfully built smart-open\nInstalling collected packages: smart-open, gensim\nSuccessfully installed gensim-3.8.3 smart-open-2.1.1\n",
                    "name": "stdout"
                }
            ]
        },
        {
            "metadata": {},
            "cell_type": "code",
            "source": "from nltk.tokenize import word_tokenize\nfrom nltk.tokenize import sent_tokenize\nfrom nltk import pos_tag\nfrom nltk.corpus import stopwords\nfrom nltk.stem import WordNetLemmatizer\nfrom nltk.stem.porter import *\nfrom nltk.corpus import wordnet as wn\nfrom collections import defaultdict\nimport nltk\nnltk.download('punkt')\nnltk.download('wordnet')\nnltk.download('averaged_perceptron_tagger')\nnltk.download('stopwords')\n\n# reproduce the same result every time the script is run.\nnp.random.seed(500)",
            "execution_count": 8,
            "outputs": [
                {
                    "output_type": "stream",
                    "text": "[nltk_data] Downloading package punkt to /home/dsxuser/nltk_data...\n[nltk_data]   Unzipping tokenizers/punkt.zip.\n[nltk_data] Downloading package wordnet to /home/dsxuser/nltk_data...\n[nltk_data]   Unzipping corpora/wordnet.zip.\n[nltk_data] Downloading package averaged_perceptron_tagger to\n[nltk_data]     /home/dsxuser/nltk_data...\n[nltk_data]   Unzipping taggers/averaged_perceptron_tagger.zip.\n[nltk_data] Downloading package stopwords to\n[nltk_data]     /home/dsxuser/nltk_data...\n[nltk_data]   Unzipping corpora/stopwords.zip.\n",
                    "name": "stderr"
                }
            ]
        },
        {
            "metadata": {},
            "cell_type": "code",
            "source": "\nimport gensim\n#, logging\n#logging.basicConfig(format='%(asctime)s : %(levelname)s : %(message)s', level=logging.INFO)\n \n#sentences = [['first', 'sentence'], ['second', 'sentence']]\n# train word2vec on the two sentences\nmodel = gensim.models.Word2Vec(sentences, min_count=1)",
            "execution_count": 9,
            "outputs": [
                {
                    "output_type": "error",
                    "ename": "NameError",
                    "evalue": "name 'gensim' is not defined",
                    "traceback": [
                        "\u001b[0;31m---------------------------------------------------------------------------\u001b[0m",
                        "\u001b[0;31mNameError\u001b[0m                                 Traceback (most recent call last)",
                        "\u001b[0;32m<ipython-input-9-a3db16fb27e1>\u001b[0m in \u001b[0;36m<module>\u001b[0;34m\u001b[0m\n\u001b[1;32m      5\u001b[0m \u001b[0;31m#sentences = [['first', 'sentence'], ['second', 'sentence']]\u001b[0m\u001b[0;34m\u001b[0m\u001b[0;34m\u001b[0m\u001b[0;34m\u001b[0m\u001b[0m\n\u001b[1;32m      6\u001b[0m \u001b[0;31m# train word2vec on the two sentences\u001b[0m\u001b[0;34m\u001b[0m\u001b[0;34m\u001b[0m\u001b[0;34m\u001b[0m\u001b[0m\n\u001b[0;32m----> 7\u001b[0;31m \u001b[0mmodel\u001b[0m \u001b[0;34m=\u001b[0m \u001b[0mgensim\u001b[0m\u001b[0;34m.\u001b[0m\u001b[0mmodels\u001b[0m\u001b[0;34m.\u001b[0m\u001b[0mWord2Vec\u001b[0m\u001b[0;34m(\u001b[0m\u001b[0msentences\u001b[0m\u001b[0;34m,\u001b[0m \u001b[0mmin_count\u001b[0m\u001b[0;34m=\u001b[0m\u001b[0;36m1\u001b[0m\u001b[0;34m)\u001b[0m\u001b[0;34m\u001b[0m\u001b[0;34m\u001b[0m\u001b[0m\n\u001b[0m",
                        "\u001b[0;31mNameError\u001b[0m: name 'gensim' is not defined"
                    ]
                }
            ]
        },
        {
            "metadata": {},
            "cell_type": "markdown",
            "source": "## Analyze average number of sentences in each story and average words in sentence"
        },
        {
            "metadata": {},
            "cell_type": "code",
            "source": "from statistics import mean\nsentencecount =[]\nsentencewordcount= []\nfor s in dfNewsTemp['text']:\n    a = sent_tokenize(s)\n    sentencecount.append(len(a))\n    swc = [len(word_tokenize(i)) for i in a]\n    sentencewordcount.extend(swc)\n\nprint (\"Average sentence count in stories: {} Average sentence length in tokens:{} Max sentence length: {}\".format(mean(sentencecount), mean(sentencewordcount), max(sentencewordcount)))\n\n",
            "execution_count": 65,
            "outputs": [
                {
                    "output_type": "stream",
                    "text": "Average sentence count in stories: 16.350799289520427 Average sentence length in tokens:23.496822551735377 Max sentence length: 267\n",
                    "name": "stdout"
                }
            ]
        },
        {
            "metadata": {},
            "cell_type": "code",
            "source": "#dfNewsTemp['text'].values[-1]\ndfNewsTemp['text_final'].values[-1]",
            "execution_count": 15,
            "outputs": [
                {
                    "output_type": "execute_result",
                    "execution_count": 15,
                    "data": {
                        "text/plain": "[['shocking',\n  'images',\n  'out',\n  'of',\n  'classroom',\n  'in',\n  'jacksonville',\n  'florida',\n  'illustrate',\n  'how',\n  'year',\n  'olds',\n  'in',\n  'th',\n  'grade',\n  'are',\n  'being',\n  'taught',\n  'how',\n  'to',\n  'use',\n  'strap',\n  'on',\n  'dildos',\n  'amidst',\n  'debate',\n  'about',\n  'sexual',\n  'content',\n  'finding',\n  'its',\n  'way',\n  'into',\n  'other',\n  'common',\n  'core',\n  'subjects',\n  'material',\n  'which',\n  'has',\n  'been',\n  'attacked',\n  'by',\n  'some',\n  'as',\n  'pornographic'],\n ['the',\n  'pictures',\n  'were',\n  'taken',\n  'by',\n  'student',\n  'with',\n  'cellphone',\n  'camera'],\n ['they',\n  'show',\n  'teacher',\n  'demonstrating',\n  'how',\n  'to',\n  'use',\n  'strap',\n  'on',\n  'sex',\n  'toy',\n  'in',\n  'number',\n  'of',\n  'different',\n  'positions'],\n ['in',\n  'one',\n  'image',\n  'the',\n  'teacher',\n  'even',\n  'shows',\n  'how',\n  'to',\n  'insert',\n  'the',\n  'strap',\n  'on',\n  'while',\n  'her',\n  'buttocks',\n  'are',\n  'in',\n  'the',\n  'air',\n  'and',\n  'her',\n  'legs',\n  'up',\n  'over',\n  'her',\n  'head'],\n ['in',\n  'another',\n  'image',\n  'the',\n  'woman',\n  'shows',\n  'the',\n  'children',\n  'how',\n  'to',\n  'wear',\n  'harness',\n  'to',\n  'which',\n  'the',\n  'strap',\n  'on',\n  'is',\n  'attached'],\n ['clinton',\n  'middle',\n  'school',\n  'in',\n  'duval',\n  'county',\n  'hired',\n  'year',\n  'old',\n  'sharon',\n  'mercer',\n  'to',\n  'teach',\n  'the',\n  'sex',\n  'education',\n  'class',\n  'but',\n  'after',\n  'the',\n  'photos',\n  'emerged',\n  'she',\n  'was',\n  'suspended',\n  'and',\n  'the',\n  'school',\n  'refused',\n  'further',\n  'comment'],\n ['clinton',\n  'middle',\n  'school',\n  'in',\n  'duval',\n  'county',\n  'hired',\n  'year',\n  'old',\n  'sharon',\n  'mercer',\n  'to',\n  'teach',\n  'the',\n  'sex',\n  'education',\n  'class',\n  'but',\n  'after',\n  'the',\n  'photos',\n  'emerged',\n  'she',\n  'was',\n  'suspended',\n  'and',\n  'the',\n  'school',\n  'refused',\n  'further',\n  'comment'],\n ['mercer',\n  'claimed',\n  'her',\n  'suspension',\n  'was',\n  'an',\n  'act',\n  'of',\n  'bigotry',\n  'because',\n  'she',\n  'was',\n  'proud',\n  'member',\n  'of',\n  'the',\n  'lgbtq',\n  'community'],\n ['newly',\n  'implemented',\n  'common',\n  'core',\n  'educational',\n  'standards',\n  'have',\n  'been',\n  'assailed',\n  'for',\n  'their',\n  'attempt',\n  'to',\n  'create',\n  'lowest',\n  'common',\n  'denominator',\n  'form',\n  'of',\n  'teaching',\n  'which',\n  'many',\n  'assert',\n  'only',\n  'works',\n  'to',\n  'dumb',\n  'down',\n  'lessons',\n  'and',\n  'prevent',\n  'smart',\n  'students',\n  'from',\n  'excelling'],\n ['the',\n  'teaching',\n  'of',\n  'so',\n  'called',\n  'alternative',\n  'sexual',\n  'lifestyles',\n  'is',\n  'being',\n  'practiced',\n  'in',\n  'many',\n  'states',\n  'under',\n  'common',\n  'core',\n  'as',\n  'result',\n  'of',\n  'sexual',\n  'content',\n  'finding',\n  'its',\n  'way',\n  'into',\n  'other',\n  'subjects'],\n ['school',\n  'district',\n  'in',\n  'arizona',\n  'the',\n  'teaching',\n  'of',\n  'so',\n  'called',\n  'alternative',\n  'sexual',\n  'lifestyles',\n  'is',\n  'being',\n  'practiced',\n  'in',\n  'many',\n  'states',\n  'under',\n  'common',\n  'core',\n  'as',\n  'result',\n  'of',\n  'sexual',\n  'content',\n  'finding',\n  'its',\n  'way',\n  'into',\n  'other',\n  'subjects'],\n ['school',\n  'district',\n  'in',\n  'arizona',\n  'banned',\n  'common',\n  'core',\n  'approved',\n  'book',\n  'last',\n  'year',\n  'after',\n  'it',\n  'was',\n  'found',\n  'to',\n  'contain',\n  'sexually',\n  'explicit',\n  'passages',\n  'that',\n  'described',\n  'scenes',\n  'of',\n  'bondage'],\n ['common',\n  'core',\n  'which',\n  'is',\n  'being',\n  'federally',\n  'imposed',\n  'on',\n  'states',\n  'across',\n  'the',\n  'nation',\n  'is',\n  'huge',\n  'shift',\n  'in',\n  'teaching',\n  'which',\n  'opponents',\n  'assert',\n  'will',\n  'eviscerate',\n  'critical',\n  'thinking',\n  'and',\n  'generally',\n  'lower',\n  'standards',\n  'in',\n  'the',\n  'name',\n  'of',\n  'inclusiveness',\n  'and',\n  'political',\n  'correctness'],\n ['numerous',\n  'examples',\n  'have',\n  'emerged',\n  'of',\n  'common',\n  'core',\n  'style',\n  'exam',\n  'questions',\n  'which',\n  'only',\n  'serve',\n  'to',\n  'cause',\n  'more',\n  'confusion',\n  'and',\n  'frustration'],\n ['perhaps',\n  'the',\n  'most',\n  'infamous',\n  'example',\n  'of',\n  'how',\n  'common',\n  'core',\n  'will',\n  'manifest',\n  'itself',\n  'in',\n  'americas',\n  'schooling',\n  'system',\n  'was',\n  'illustrated',\n  'by',\n  'perhaps',\n  'the',\n  'most',\n  'infamous',\n  'example',\n  'of',\n  'how',\n  'common',\n  'core',\n  'will',\n  'manifest',\n  'itself',\n  'in',\n  'americas',\n  'schooling',\n  'system',\n  'was',\n  'illustrated',\n  'by',\n  'bizarre',\n  'video',\n  'in',\n  'which',\n  'common',\n  'core',\n  'curriculum',\n  'director',\n  'said',\n  'that',\n  'could',\n  'be',\n  'considered',\n  'correct',\n  'answer',\n  'so',\n  'long',\n  'as',\n  'students',\n  'could',\n  'explain',\n  'how',\n  'they',\n  'reached',\n  'that',\n  'number'],\n ['common',\n  'cores',\n  'sex',\n  'education',\n  'content',\n  'has',\n  'also',\n  'faced',\n  'fierce',\n  'criticism',\n  'with',\n  'common',\n  'cores',\n  'sex',\n  'education',\n  'content',\n  'has',\n  'also',\n  'faced',\n  'fierce',\n  'criticism',\n  'with',\n  'one',\n  'group',\n  'even',\n  'claiming',\n  'that',\n  'it',\n  'represents',\n  'pornography',\n  'which',\n  'serves',\n  'to',\n  'desensitize',\n  'children',\n  'to',\n  'sexual',\n  'contact',\n  'and',\n  'could',\n  'lead',\n  'to',\n  'an',\n  'increased',\n  'chance',\n  'of',\n  'molestation',\n  'within',\n  'the',\n  'schooling',\n  'system'],\n ['common',\n  'core',\n  'approved',\n  'book',\n  'aimed',\n  'at',\n  'th',\n  'graders',\n  'contains',\n  'sexually',\n  'explicit',\n  'scenes',\n  'of',\n  'bondage'],\n ['common',\n  'core',\n  'approved',\n  'book',\n  'aimed',\n  'at',\n  'th',\n  'graders',\n  'contains',\n  'sexually',\n  'explicit',\n  'scenes',\n  'of',\n  'bondage'],\n ['what',\n  'is',\n  'taught',\n  'includes',\n  'teaching',\n  'inappropriate',\n  'sexuality',\n  'skills',\n  'that',\n  'shouldnt',\n  'even',\n  'be',\n  'taught',\n  'in',\n  'college',\n  'what',\n  'is',\n  'taught',\n  'includes',\n  'teaching',\n  'inappropriate',\n  'sexuality',\n  'skills',\n  'that',\n  'shouldnt',\n  'even',\n  'be',\n  'taught',\n  'in',\n  'college',\n  'writes',\n  'joseph',\n  'john'],\n ['according',\n  'to',\n  'child',\n  'psychologists',\n  'the',\n  'children',\n  'are',\n  'not',\n  'mentally',\n  'equipped',\n  'to',\n  'understand',\n  'the',\n  'detailed',\n  'sexual',\n  'indoctrination',\n  'starting',\n  'in',\n  'kindergarten',\n  'they',\n  'are',\n  'indoctrinated',\n  'in',\n  'sexual',\n  'practices',\n  'that',\n  'they',\n  'should',\n  'never',\n  'be',\n  'exposed',\n  'to'],\n ['there',\n  'is',\n  'heavy',\n  'socio',\n  'political',\n  'content',\n  'of',\n  'sex',\n  'throughout',\n  'common',\n  'core',\n  'curriculum',\n  'being',\n  'taught',\n  'in',\n  'every',\n  'grade',\n  'and',\n  'in',\n  'every',\n  'subject',\n  'the',\n  'student',\n  'is',\n  'taught',\n  'that',\n  'there',\n  'is',\n  'sameness',\n  'of',\n  'gender',\n  'there',\n  'is',\n  'no',\n  'longer',\n  'simply',\n  'boys',\n  'and',\n  'girls',\n  'according',\n  'to',\n  'common',\n  'core',\n  'notes',\n  'john'],\n ['the',\n  'sexual',\n  'content',\n  'of',\n  'common',\n  'core',\n  'crosses',\n  'into',\n  'every',\n  'curriculum',\n  'taught',\n  'from',\n  'teaching',\n  'sexuality',\n  'skills',\n  'in',\n  'sex',\n  'education',\n  'courses',\n  'by',\n  'specially',\n  'skilled',\n  'and',\n  'trained',\n  'sex',\n  'education',\n  'teachers'],\n ['sexual',\n  'activities',\n  'and',\n  'content',\n  'in',\n  'included',\n  'in',\n  'every',\n  'subject',\n  'taught'],\n ['sex',\n  'is',\n  'taught',\n  'in',\n  'the',\n  'english',\n  'curriculum',\n  'is',\n  'included',\n  'in',\n  'the',\n  'language',\n  'curriculum',\n  'sex',\n  'is',\n  'woven',\n  'into',\n  'the',\n  'science',\n  'curriculum',\n  'in',\n  'the',\n  'math',\n  'curriculum',\n  'in',\n  'the',\n  'social',\n  'studies',\n  'curriculum',\n  'and',\n  'of',\n  'course',\n  'in',\n  'biology'],\n ['as',\n  'the',\n  'backlash',\n  'grows',\n  'more',\n  'and',\n  'more',\n  'states',\n  'are',\n  'considering',\n  'abolishing',\n  'common',\n  'core',\n  'altogether',\n  'with',\n  'as',\n  'the',\n  'backlash',\n  'grows',\n  'andstates',\n  'are',\n  'considering',\n  'abolishing',\n  'common',\n  'core',\n  'altogether',\n  'with',\n  'indianas',\n  'decision',\n  'earlier',\n  'this',\n  'year',\n  'to',\n  'ditch',\n  'the',\n  'program',\n  'seen',\n  'as',\n  'victory',\n  'for',\n  'conservatives'],\n ['facebook',\n  'follow',\n  'paul',\n  'joseph',\n  'watson',\n  'facebook',\n  'follow',\n  'paul',\n  'joseph',\n  'watson',\n  'paul',\n  'joseph',\n  'watson',\n  'is',\n  'the',\n  'editor',\n  'at',\n  'large',\n  'of',\n  'paul',\n  'joseph',\n  'watson',\n  'is',\n  'the',\n  'editor',\n  'at',\n  'large',\n  'of',\n  'infowars',\n  'com',\n  'and',\n  'prison',\n  'planet',\n  'com',\n  'print',\n  'this',\n  'page'],\n ['infowars', 'com', 'videos']]"
                    },
                    "metadata": {}
                }
            ]
        },
        {
            "metadata": {},
            "cell_type": "code",
            "source": "# Step 0: Change all the text to lower case.\ndfNewsTemp['text'] = [entry.lower() for entry in dfNewsTemp['text']]",
            "execution_count": 12,
            "outputs": []
        },
        {
            "metadata": {},
            "cell_type": "code",
            "source": "# Step 1: Split text into sentences using NLTK\n#dfNewsTemp['text'] = will be a list of sentences.\n\ndfNewsTemp['text'] = [sent_tokenize(entry) for entry in dfNewsTemp['text']]",
            "execution_count": 13,
            "outputs": []
        },
        {
            "metadata": {},
            "cell_type": "code",
            "source": "# Step 2: Tokenization : Each entry will be broken into set of words\n# The Treebank tokenizer uses regular expressions to tokenize text as in Penn Treebank. \n# This is the method that is invoked by word_tokenize(). It assumes that the text has already been segmented into sentences, e.g. using sent_tokenize().\nfrom gensim.utils import simple_preprocess\ntokenlist =[]\nfor index, story in enumerate(dfNewsTemp['text']):\n    print (index, end= ', ')\n    tokens = [simple_preprocess(sentence) for sentence in story]  #Convert a document into a list of lowercase tokens, ignoring tokens that are too short or too long.\n    tokenlist.append(tokens)\ndfNewsTemp['text_final'] = tokenlist",
            "execution_count": 14,
            "outputs": [
                {
                    "output_type": "stream",
                    "text": "0, 1, 2, 3, 4, 5, 6, 7, 8, 9, 10, 11, 12, 13, 14, 15, 16, 17, 18, 19, 20, 21, 22, 23, 24, 25, 26, 27, 28, 29, 30, 31, 32, 33, 34, 35, 36, 37, 38, 39, 40, 41, 42, 43, 44, 45, 46, 47, 48, 49, 50, 51, 52, 53, 54, 55, 56, 57, 58, 59, 60, 61, 62, 63, 64, 65, 66, 67, 68, 69, 70, 71, 72, 73, 74, 75, 76, 77, 78, 79, 80, 81, 82, 83, 84, 85, 86, 87, 88, 89, 90, 91, 92, 93, 94, 95, 96, 97, 98, 99, 100, 101, 102, 103, 104, 105, 106, 107, 108, 109, 110, 111, 112, 113, 114, 115, 116, 117, 118, 119, 120, 121, 122, 123, 124, 125, 126, 127, 128, 129, 130, 131, 132, 133, 134, 135, 136, 137, 138, 139, 140, 141, 142, 143, 144, 145, 146, 147, 148, 149, 150, 151, 152, 153, 154, 155, 156, 157, 158, 159, 160, 161, 162, 163, 164, 165, 166, 167, 168, 169, 170, 171, 172, 173, 174, 175, 176, 177, 178, 179, 180, 181, 182, 183, 184, 185, 186, 187, 188, 189, 190, 191, 192, 193, 194, 195, 196, 197, 198, 199, 200, 201, 202, 203, 204, 205, 206, 207, 208, 209, 210, 211, 212, 213, 214, 215, 216, 217, 218, 219, 220, 221, 222, 223, 224, 225, 226, 227, 228, 229, 230, 231, 232, 233, 234, 235, 236, 237, 238, 239, 240, 241, 242, 243, 244, 245, 246, 247, 248, 249, 250, 251, 252, 253, 254, 255, 256, 257, 258, 259, 260, 261, 262, 263, 264, 265, 266, 267, 268, 269, 270, 271, 272, 273, 274, 275, 276, 277, 278, 279, 280, 281, 282, 283, 284, 285, 286, 287, 288, 289, 290, 291, 292, 293, 294, 295, 296, 297, 298, 299, 300, 301, 302, 303, 304, 305, 306, 307, 308, 309, 310, 311, 312, 313, 314, 315, 316, 317, 318, 319, 320, 321, 322, 323, 324, 325, 326, 327, 328, 329, 330, 331, 332, 333, 334, 335, 336, 337, 338, 339, 340, 341, 342, 343, 344, 345, 346, 347, 348, 349, 350, 351, 352, 353, 354, 355, 356, 357, 358, 359, 360, 361, 362, 363, 364, 365, 366, 367, 368, 369, 370, 371, 372, 373, 374, 375, 376, 377, 378, 379, 380, 381, 382, 383, 384, 385, 386, 387, 388, 389, 390, 391, 392, 393, 394, 395, 396, 397, 398, 399, 400, 401, 402, 403, 404, 405, 406, 407, 408, 409, 410, 411, 412, 413, 414, 415, 416, 417, 418, 419, 420, 421, 422, 423, 424, 425, 426, 427, 428, 429, 430, 431, 432, 433, 434, 435, 436, 437, 438, 439, 440, 441, 442, 443, 444, 445, 446, 447, 448, 449, 450, 451, 452, 453, 454, 455, 456, 457, 458, 459, 460, 461, 462, 463, 464, 465, 466, 467, 468, 469, 470, 471, 472, 473, 474, 475, 476, 477, 478, 479, 480, 481, 482, 483, 484, 485, 486, 487, 488, 489, 490, 491, 492, 493, 494, 495, 496, 497, 498, 499, 500, 501, 502, 503, 504, 505, 506, 507, 508, 509, 510, 511, 512, 513, 514, 515, 516, 517, 518, 519, 520, 521, 522, 523, 524, 525, 526, 527, 528, 529, 530, 531, 532, 533, 534, 535, 536, 537, 538, 539, 540, 541, 542, 543, 544, 545, 546, 547, 548, 549, 550, 551, 552, 553, 554, 555, 556, 557, 558, 559, 560, 561, 562, 563, 564, 565, 566, 567, 568, 569, 570, 571, 572, 573, 574, 575, 576, 577, 578, 579, 580, 581, 582, 583, 584, 585, 586, 587, 588, 589, 590, 591, 592, 593, 594, 595, 596, 597, 598, 599, 600, 601, 602, 603, 604, 605, 606, 607, 608, 609, 610, 611, 612, 613, 614, 615, 616, 617, 618, 619, 620, 621, 622, 623, 624, 625, 626, 627, 628, 629, 630, 631, 632, 633, 634, 635, 636, 637, 638, 639, 640, 641, 642, 643, 644, 645, 646, 647, 648, 649, 650, 651, 652, 653, 654, 655, 656, 657, 658, 659, 660, 661, 662, 663, 664, 665, 666, 667, 668, 669, 670, 671, 672, 673, 674, 675, 676, 677, 678, 679, 680, 681, 682, 683, 684, 685, 686, 687, 688, 689, 690, 691, 692, 693, 694, 695, 696, 697, 698, 699, 700, 701, 702, 703, 704, 705, 706, 707, 708, 709, 710, 711, 712, 713, 714, 715, 716, 717, 718, 719, 720, 721, 722, 723, 724, 725, 726, 727, 728, 729, 730, 731, 732, 733, 734, 735, 736, 737, 738, 739, 740, 741, 742, 743, 744, 745, 746, 747, 748, 749, 750, 751, 752, 753, 754, 755, 756, 757, 758, 759, 760, 761, 762, 763, 764, 765, 766, 767, 768, 769, 770, 771, 772, 773, 774, 775, 776, 777, 778, 779, 780, 781, 782, 783, 784, 785, 786, 787, 788, 789, 790, 791, 792, 793, 794, 795, 796, 797, 798, 799, 800, 801, 802, 803, 804, 805, 806, 807, 808, 809, 810, 811, 812, 813, 814, 815, 816, 817, 818, 819, 820, 821, 822, 823, 824, 825, 826, 827, 828, 829, 830, 831, 832, 833, 834, 835, 836, 837, 838, 839, 840, 841, 842, 843, 844, 845, 846, 847, 848, 849, 850, 851, 852, 853, 854, 855, 856, 857, 858, 859, 860, 861, 862, 863, 864, 865, 866, 867, 868, 869, 870, 871, 872, 873, 874, 875, 876, 877, 878, 879, 880, 881, 882, 883, 884, 885, 886, 887, 888, 889, 890, 891, 892, 893, 894, 895, 896, 897, 898, 899, 900, 901, 902, 903, 904, 905, 906, 907, 908, 909, 910, 911, 912, 913, 914, 915, 916, 917, 918, 919, 920, 921, 922, 923, 924, 925, 926, 927, 928, 929, 930, 931, 932, 933, 934, 935, 936, 937, 938, 939, 940, 941, 942, 943, 944, 945, 946, 947, 948, 949, 950, 951, 952, 953, 954, 955, 956, 957, 958, 959, 960, 961, 962, 963, 964, 965, 966, 967, 968, 969, 970, 971, 972, 973, 974, 975, 976, 977, 978, 979, 980, 981, 982, 983, 984, 985, 986, 987, 988, 989, 990, 991, 992, 993, 994, 995, 996, 997, 998, 999, 1000, 1001, 1002, 1003, 1004, 1005, 1006, 1007, 1008, 1009, 1010, 1011, 1012, 1013, 1014, 1015, 1016, 1017, 1018, 1019, 1020, 1021, 1022, 1023, 1024, 1025, 1026, 1027, 1028, 1029, 1030, 1031, 1032, 1033, 1034, 1035, 1036, 1037, 1038, 1039, 1040, 1041, 1042, 1043, 1044, 1045, 1046, 1047, 1048, 1049, 1050, 1051, 1052, 1053, 1054, 1055, 1056, 1057, 1058, 1059, 1060, 1061, 1062, 1063, 1064, 1065, 1066, 1067, 1068, 1069, 1070, 1071, 1072, 1073, 1074, 1075, 1076, 1077, 1078, 1079, 1080, 1081, 1082, 1083, 1084, 1085, 1086, 1087, 1088, 1089, 1090, 1091, 1092, 1093, 1094, 1095, 1096, 1097, 1098, 1099, 1100, 1101, 1102, 1103, 1104, 1105, 1106, 1107, 1108, 1109, 1110, 1111, 1112, 1113, 1114, 1115, 1116, 1117, 1118, 1119, 1120, 1121, 1122, 1123, 1124, 1125, ",
                    "name": "stdout"
                }
            ]
        },
        {
            "metadata": {},
            "cell_type": "code",
            "source": "# This took a while, so let's save the result.\ndfNewsTemp.to_pickle('dfTrueFalseNews_tokenized_w2v.pkl', protocol=4 )\n\n# save to our cloud storage \nupload_file_cos(credentials_news,'dfTrueFalseNews_tokenized_w2v.pkl','dfTrueFalseNews_tokenized_w2v.pkl')",
            "execution_count": 16,
            "outputs": [
                {
                    "output_type": "stream",
                    "text": " File Uploaded\n",
                    "name": "stdout"
                }
            ]
        },
        {
            "metadata": {},
            "cell_type": "code",
            "source": "# Step 3: Put all sentences into a single array to train word2vec.\nsentencelist = []\nfor tokens in tokenlist:\n    for sentence in tokens:\n        sentencelist.append(sentence)\nprint (len(sentencelist), sentencelist[0], sentencelist[-1])",
            "execution_count": 107,
            "outputs": [
                {
                    "output_type": "stream",
                    "text": "18003 ['google', 'computer', 'victorious', 'over', 'the', 'world', 'go', 'champion', 'on', 'saturday', 'google', 'computer', 'clocked', 'its', 'third', 'consecutive', 'victory', 'over', 'lee', 'se', 'dol', 'the', 'long', 'reigning', 'global', 'champion', 'of', 'the', 'world', 'most', 'complex', 'board', 'game'] ['infowars', 'com', 'videos']\n",
                    "name": "stdout"
                }
            ]
        },
        {
            "metadata": {},
            "cell_type": "code",
            "source": "# Step 4: train word2vec model\nfrom gensim.models import Word2Vec\nmodel = Word2Vec(sentencelist, size=100, window=5, workers=1, min_count=1)\n# summarize vocabulary size in model\nwords = list(model.wv.vocab)\nprint('Vocabulary size: %d' % len(words))\n \n# save model in ASCII (word2vec) format\nfilename = 'embedding_word2vec.txt'\nmodel.wv.save_word2vec_format(filename, binary=False)\nupload_file_cos(credentials_news,'embedding_word2vec.txt','embedding_word2vec.txt')",
            "execution_count": 109,
            "outputs": [
                {
                    "output_type": "stream",
                    "text": "Vocabulary size: 21671\n File Uploaded\n",
                    "name": "stdout"
                }
            ]
        },
        {
            "metadata": {},
            "cell_type": "code",
            "source": "model.wv.distance('trump', 'melania')\n",
            "execution_count": 128,
            "outputs": [
                {
                    "output_type": "execute_result",
                    "execution_count": 128,
                    "data": {
                        "text/plain": "0.033370018005371094"
                    },
                    "metadata": {}
                }
            ]
        },
        {
            "metadata": {},
            "cell_type": "code",
            "source": "# Step 3,4,5: Remove Stop words, Non-Numeric and perfom Word Stemming/Lemmenting.\n# WordNetLemmatizer requires Pos tags to understand if the word is noun or verb or adjective etc. By default it is set to Noun\ntag_map = defaultdict(lambda : wn.NOUN)\ntag_map['J'] = wn.ADJ\ntag_map['V'] = wn.VERB\ntag_map['R'] = wn.ADV",
            "execution_count": null,
            "outputs": []
        },
        {
            "metadata": {},
            "cell_type": "code",
            "source": "# Initializing WordNetLemmatizer()\nword_Lemmatized = WordNetLemmatizer()\n#dfNewsTemp.loc['text_final'].astype('object')\ncol = []\nfor index,entry in enumerate(dfNewsTemp['text']):\n    # Declaring Empty List to store the words that follow the rules for this step\n    Final_words = []\n    # Initializing WordNetLemmatizer()\n    #word_Lemmatized = WordNetLemmatizer()\n    # pos_tag function below will provide the 'tag' i.e if the word is Noun(N) or Verb(V) or something else.\n    for word, tag in pos_tag(entry):\n        # Below condition is to check for Stop words and consider only alphabets\n        #if word not in stopwords.words('english') and word.isalpha():\n        if word.isalpha():\n            word_Final = word_Lemmatized.lemmatize(word,tag_map[tag[0]])\n            Final_words.append(word_Final)\n    # The final processed set of words for each iteration will be stored in 'text_final'\n    \n    #dfNewsTemp.loc[index,'text_final'] = \" \".join(Final_words)\n    #dfNewsTemp.loc[index,'text_final'] = Final_words\n    col.append(\" \".join(Final_words))\ndfNewsTemp['text_final'] = col\n",
            "execution_count": null,
            "outputs": []
        },
        {
            "metadata": {},
            "cell_type": "code",
            "source": "#dfNewsTemp['text_final'] = col\n#col[-1]",
            "execution_count": null,
            "outputs": []
        },
        {
            "metadata": {},
            "cell_type": "code",
            "source": "dfTrueFalseNews_tokenized  = download_file_cos(credentials_news,'dfTrueFalseNews_tokenized.pkl', 'dfTrueFalseNews_tokenized.pkl')\n!ls -al",
            "execution_count": null,
            "outputs": []
        },
        {
            "metadata": {},
            "cell_type": "code",
            "source": "dfTrueFalseNews_tokenized = pd.read_pickle('dfTrueFalseNews_tokenized.pkl')\ndfTrueFalseNews_tokenized.head()",
            "execution_count": null,
            "outputs": []
        },
        {
            "metadata": {
                "scrolled": true
            },
            "cell_type": "code",
            "source": "from sklearn import model_selection\nTrain_X, Test_X, Train_Y, Test_Y = model_selection.train_test_split(dfTrueFalseNews_tokenized['text_final'],dfTrueFalseNews_tokenized['truthvalue'],test_size=0.1)\n#print(dfTrueFalseNews_tokenized.shape, (dfTrueFalseNews_tokenized['text_final'].shape), (dfTrueFalseNews_tokenized['truthvalue'].shape))\n#dfTrueFalseNews_tokenized['text_final'][0]",
            "execution_count": null,
            "outputs": []
        },
        {
            "metadata": {},
            "cell_type": "code",
            "source": "#corpus = [\" \".join(i) for i in dfTrueFalseNews_tokenized['text_final']]\n#corpus[1:3]\ndfTrueFalseNews_tokenized.head()\n\n#dfTrueFalseNews_tokenized.dtypes\n#import sklearn\n#sklearn.show_versions()",
            "execution_count": null,
            "outputs": []
        },
        {
            "metadata": {},
            "cell_type": "code",
            "source": "from sklearn.feature_extraction.text import TfidfVectorizer\nTfidf_vect = TfidfVectorizer(max_features=26000)\n\nTfidf_vect.fit(dfTrueFalseNews_tokenized['text_final'])\n\nTrain_X_Tfidf = Tfidf_vect.transform(Train_X)\nTest_X_Tfidf = Tfidf_vect.transform(Test_X)",
            "execution_count": null,
            "outputs": []
        },
        {
            "metadata": {},
            "cell_type": "code",
            "source": "print(len(Tfidf_vect.vocabulary_), Test_X_Tfidf)\n",
            "execution_count": null,
            "outputs": []
        },
        {
            "metadata": {},
            "cell_type": "markdown",
            "source": "### Use Naive Bayes Classifier"
        },
        {
            "metadata": {},
            "cell_type": "code",
            "source": "# some open source utilities to evaluate a model.\n# you can see them at: https://github.com/dipanjanS/practical-machine-learning-with-python/blob/master/notebooks/Ch05_Building_Tuning_and_Deploying_Models/model_evaluation_utils.py\ndownload_file_cos(credentials_news,'model_evaluation_utils.py', 'model_evaluation_utils.py')\nimport importlib\n#importlib.reload(model_evaluation_utils)\nimport model_evaluation_utils as meu",
            "execution_count": null,
            "outputs": []
        },
        {
            "metadata": {},
            "cell_type": "code",
            "source": "from sklearn import naive_bayes\nfrom sklearn.metrics import accuracy_score\n# fit the training dataset on the NB classifier\nNaive = naive_bayes.MultinomialNB()\nTrain_y_int = Train_Y.astype('int')\nTest_y_int = Test_Y.astype('int')\nNaive.fit(Train_X_Tfidf,Train_y_int)# predict the labels on validation dataset\n#Naive.fit(Train_X_Tfidf,Train_Y)# predict the labels on validation dataset\npredictions_NB = Naive.predict(Test_X_Tfidf)# Use accuracy_score function to get the accuracy\nprint(\"Naive Bayes Accuracy Score -> \",accuracy_score(predictions_NB, Test_y_int)* 100)\nprint(\"Naive model params: {}\".format(Naive.get_params()))\nmeu.display_model_performance_metrics(true_labels=Test_Y.tolist(), predicted_labels=predictions_NB.tolist())",
            "execution_count": null,
            "outputs": []
        },
        {
            "metadata": {},
            "cell_type": "markdown",
            "source": "### Discussion\nThis is a Naive Bayes model using a Bag of Words TF-IDF encoding. \n\nThe result of 34% accuracy is not very good.  "
        },
        {
            "metadata": {},
            "cell_type": "markdown",
            "source": "## Use Support Vector Machine"
        },
        {
            "metadata": {},
            "cell_type": "code",
            "source": "from sklearn import svm\n# Classifier - Algorithm - SVM\n# fit the training dataset on the classifier\nSVM = svm.SVC(C=2.5, kernel='sigmoid', degree=3, gamma='scale')\nSVM.fit(Train_X_Tfidf,Train_y_int)# predict the labels on validation dataset\npredictions_SVM = SVM.predict(Test_X_Tfidf)# Use accuracy_score function to get the accuracy\nprint(\"SVM Accuracy Score -> {}\".format(accuracy_score(predictions_SVM, Test_y_int)*100))\nprint(\"SVM model params: {}\".format(Naive.get_params()))\nmeu.display_model_performance_metrics(true_labels=Test_Y.tolist(), predicted_labels=predictions_SVM.tolist())",
            "execution_count": null,
            "outputs": []
        },
        {
            "metadata": {},
            "cell_type": "markdown",
            "source": "### Discussion\n\nThis is a Support Vector Machine using the same Bag of Words TF-IDF encoding as above and does surprisingly better, with a 60% accuracy rate that rivals others results.\n\n"
        },
        {
            "metadata": {},
            "cell_type": "markdown",
            "source": "### Split the data"
        },
        {
            "metadata": {},
            "cell_type": "code",
            "source": "# use the dataframe to write a parquet file\ndfNewsTemp.to_parquet('dfTrueFalseNews_tokenized.parquet')\ndfNews = spark.read.parquet('dfTrueFalseNews_tokenized.parquet')\ndfNews.createOrReplaceTempView('dfNews')",
            "execution_count": null,
            "outputs": []
        },
        {
            "metadata": {},
            "cell_type": "code",
            "source": "Train_X, Test_X, Train_Y, Test_Y = model_selection.train_test_split(dfNewsTemp['text_final'],Corpus['label'],test_size=0.1)",
            "execution_count": null,
            "outputs": []
        },
        {
            "metadata": {},
            "cell_type": "code",
            "source": "splits = dfNews.randomSplit([0.9, 0.1])\ndf_train = splits[0]\ndf_test = splits[1]\n\n",
            "execution_count": null,
            "outputs": []
        },
        {
            "metadata": {},
            "cell_type": "code",
            "source": "",
            "execution_count": null,
            "outputs": []
        }
    ],
    "metadata": {
        "kernelspec": {
            "name": "python3",
            "display_name": "Python 3.6",
            "language": "python"
        },
        "language_info": {
            "name": "python",
            "version": "3.6.9",
            "mimetype": "text/x-python",
            "codemirror_mode": {
                "name": "ipython",
                "version": 3
            },
            "pygments_lexer": "ipython3",
            "nbconvert_exporter": "python",
            "file_extension": ".py"
        }
    },
    "nbformat": 4,
    "nbformat_minor": 1
}